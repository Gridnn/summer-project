{
  "nbformat": 4,
  "nbformat_minor": 0,
  "metadata": {
    "colab": {
      "name": "example.ipynb",
      "provenance": []
    },
    "kernelspec": {
      "name": "python3",
      "display_name": "Python 3"
    },
    "language_info": {
      "name": "python"
    }
  },
  "cells": [
    {
      "cell_type": "code",
      "metadata": {
        "id": "4Ow9ezfcFbww"
      },
      "source": [
        "import pandas as pd\n",
        "# all current sentences\n",
        "zh_current = pd.read_csv('Chinese_current_pages', sep = '\\t', names = ['sentence', 'id'])\n",
        "bg_current = pd.read_csv('Bulgarian_current_pages', sep = '\\t', names = ['sentence', 'id'])\n",
        "# the map of qid and pid\n",
        "zh_map = pd.read_csv('/wiki_pid_qid_map/chineseMap.csv')\n",
        "bg_map = pd.read_csv('/wiki_pid_qid_map/bulgarianMap.csv')\n",
        "zh_map_dict = pd.Series(zh_map.Q_id.values,index=zh_map.page_id).to_dict()\n",
        "bg_map_dict = pd.Series(bg_map.Q_id.values,index=bg_map.page_id).to_dict()\n",
        "\n",
        "zh_qid = [zh_map_dict.get(i,'empty') for i in zh_current['id'].values]\n",
        "bg_qid = [bg_map_dict.get(i,'empty') for i in bg_current['id'].values]\n",
        "\n",
        "zh_current['qid'] = zh_qid\n",
        "bg_current['qid'] = bg_qid\n",
        "\n",
        "zh_current = zh_current.drop(zh_current[zh_current['qid'] == 'empty'].index)\n",
        "bg_current = bg_current.drop(bg_current[bg_current['qid'] == 'empty'].index)\n",
        "\n",
        "zh_id = set(zh_current['qid'].values)\n",
        "bg_id = set(bg_current['qid'].values)\n",
        "\n",
        "zh_drop_list = [n for n,i in enumerate(zh_current['qid'].values) if i not in bg_id]\n",
        "bg_drop_list = [n for n,i in enumerate(bg_current['qid'].values) if i not in zh_id]\n",
        "\n",
        "application_zh = zh_current.drop(zh_current.index[zh_drop_list])\n",
        "application_bg = bg_current.drop(bg_current.index[bg_drop_list])"
      ],
      "execution_count": 39,
      "outputs": []
    },
    {
      "cell_type": "code",
      "metadata": {
        "colab": {
          "base_uri": "https://localhost:8080/",
          "height": 419
        },
        "id": "eqigQZhTFx7p",
        "outputId": "2769d1bd-f702-47a3-90e7-9111ae3db973"
      },
      "source": [
        "application_zh"
      ],
      "execution_count": 41,
      "outputs": [
        {
          "output_type": "execute_result",
          "data": {
            "text/html": [
              "<div>\n",
              "<style scoped>\n",
              "    .dataframe tbody tr th:only-of-type {\n",
              "        vertical-align: middle;\n",
              "    }\n",
              "\n",
              "    .dataframe tbody tr th {\n",
              "        vertical-align: top;\n",
              "    }\n",
              "\n",
              "    .dataframe thead th {\n",
              "        text-align: right;\n",
              "    }\n",
              "</style>\n",
              "<table border=\"1\" class=\"dataframe\">\n",
              "  <thead>\n",
              "    <tr style=\"text-align: right;\">\n",
              "      <th></th>\n",
              "      <th>sentence</th>\n",
              "      <th>id</th>\n",
              "      <th>qid</th>\n",
              "    </tr>\n",
              "  </thead>\n",
              "  <tbody>\n",
              "    <tr>\n",
              "      <th>0</th>\n",
              "      <td>數學家希望他們的定理以系統化的推理依著公理被推論下去</td>\n",
              "      <td>13</td>\n",
              "      <td>Q395</td>\n",
              "    </tr>\n",
              "    <tr>\n",
              "      <th>1</th>\n",
              "      <td>其在英语中表面上的複數形式 及在法语中的表面複數形式 可溯至拉丁文的中性複數 由西塞罗譯自希...</td>\n",
              "      <td>13</td>\n",
              "      <td>Q395</td>\n",
              "    </tr>\n",
              "    <tr>\n",
              "      <th>2</th>\n",
              "      <td>兩者都頒獎於特定的工作主題 包括數學新領域的創新或已成熟領域中未解決問題的解答</td>\n",
              "      <td>13</td>\n",
              "      <td>Q395</td>\n",
              "    </tr>\n",
              "    <tr>\n",
              "      <th>3</th>\n",
              "      <td>西方语言中 數學 一詞源自於古希臘語的 其有 學習 學問 科學 以及另外還有個較狹義且技術性...</td>\n",
              "      <td>13</td>\n",
              "      <td>Q395</td>\n",
              "    </tr>\n",
              "    <tr>\n",
              "      <th>4</th>\n",
              "      <td>許多數學家認為稱他們的工作是一種科學 是低估了其美學方面的重要性 以及其做為七大博雅教育之一...</td>\n",
              "      <td>13</td>\n",
              "      <td>Q395</td>\n",
              "    </tr>\n",
              "    <tr>\n",
              "      <th>...</th>\n",
              "      <td>...</td>\n",
              "      <td>...</td>\n",
              "      <td>...</td>\n",
              "    </tr>\n",
              "    <tr>\n",
              "      <th>14768128</th>\n",
              "      <td>numtkn 年 多蘿西亞和卡爾馬聯合國王巴伐利亞的克里斯多福結婚 兩人沒有子女</td>\n",
              "      <td>7505371</td>\n",
              "      <td>Q61873</td>\n",
              "    </tr>\n",
              "    <tr>\n",
              "      <th>14768129</th>\n",
              "      <td>布蘭登堡的多蘿西亞 約 丹麥 瑞典 挪威王后 布蘭登堡 庫爾姆巴赫藩侯的女兒</td>\n",
              "      <td>7505371</td>\n",
              "      <td>Q61873</td>\n",
              "    </tr>\n",
              "    <tr>\n",
              "      <th>14768506</th>\n",
              "      <td>该国的最好成绩是克里斯蒂安·科斯托夫在上凭借歌曲 在numtkn 年时的参赛情景 file ...</td>\n",
              "      <td>7505598</td>\n",
              "      <td>Q273339</td>\n",
              "    </tr>\n",
              "    <tr>\n",
              "      <th>14768507</th>\n",
              "      <td>保加利亚自首次在参加欧洲歌唱大赛以来共参赛numtkn 次 最近一次在</td>\n",
              "      <td>7505598</td>\n",
              "      <td>Q273339</td>\n",
              "    </tr>\n",
              "    <tr>\n",
              "      <th>14768508</th>\n",
              "      <td>保加利亚在numtkn 至numtkn 年间得分及给分情况</td>\n",
              "      <td>7505598</td>\n",
              "      <td>Q273339</td>\n",
              "    </tr>\n",
              "  </tbody>\n",
              "</table>\n",
              "<p>2561723 rows × 3 columns</p>\n",
              "</div>"
            ],
            "text/plain": [
              "                                                   sentence       id      qid\n",
              "0                                數學家希望他們的定理以系統化的推理依著公理被推論下去       13     Q395\n",
              "1         其在英语中表面上的複數形式 及在法语中的表面複數形式 可溯至拉丁文的中性複數 由西塞罗譯自希...       13     Q395\n",
              "2                   兩者都頒獎於特定的工作主題 包括數學新領域的創新或已成熟領域中未解決問題的解答       13     Q395\n",
              "3         西方语言中 數學 一詞源自於古希臘語的 其有 學習 學問 科學 以及另外還有個較狹義且技術性...       13     Q395\n",
              "4         許多數學家認為稱他們的工作是一種科學 是低估了其美學方面的重要性 以及其做為七大博雅教育之一...       13     Q395\n",
              "...                                                     ...      ...      ...\n",
              "14768128           numtkn 年 多蘿西亞和卡爾馬聯合國王巴伐利亞的克里斯多福結婚 兩人沒有子女  7505371   Q61873\n",
              "14768129             布蘭登堡的多蘿西亞 約 丹麥 瑞典 挪威王后 布蘭登堡 庫爾姆巴赫藩侯的女兒  7505371   Q61873\n",
              "14768506  该国的最好成绩是克里斯蒂安·科斯托夫在上凭借歌曲 在numtkn 年时的参赛情景 file ...  7505598  Q273339\n",
              "14768507                保加利亚自首次在参加欧洲歌唱大赛以来共参赛numtkn 次 最近一次在  7505598  Q273339\n",
              "14768508                      保加利亚在numtkn 至numtkn 年间得分及给分情况  7505598  Q273339\n",
              "\n",
              "[2561723 rows x 3 columns]"
            ]
          },
          "metadata": {},
          "execution_count": 41
        }
      ]
    },
    {
      "cell_type": "code",
      "metadata": {
        "colab": {
          "base_uri": "https://localhost:8080/",
          "height": 419
        },
        "id": "Lk6Zr2chHM5C",
        "outputId": "186130c0-f43c-47b1-97b4-1014f78ec605"
      },
      "source": [
        "application_bg"
      ],
      "execution_count": 42,
      "outputs": [
        {
          "output_type": "execute_result",
          "data": {
            "text/html": [
              "<div>\n",
              "<style scoped>\n",
              "    .dataframe tbody tr th:only-of-type {\n",
              "        vertical-align: middle;\n",
              "    }\n",
              "\n",
              "    .dataframe tbody tr th {\n",
              "        vertical-align: top;\n",
              "    }\n",
              "\n",
              "    .dataframe thead th {\n",
              "        text-align: right;\n",
              "    }\n",
              "</style>\n",
              "<table border=\"1\" class=\"dataframe\">\n",
              "  <thead>\n",
              "    <tr style=\"text-align: right;\">\n",
              "      <th></th>\n",
              "      <th>sentence</th>\n",
              "      <th>id</th>\n",
              "      <th>qid</th>\n",
              "    </tr>\n",
              "  </thead>\n",
              "  <tbody>\n",
              "    <tr>\n",
              "      <th>0</th>\n",
              "      <td>григорианският календар понякога наричан и гре...</td>\n",
              "      <td>558</td>\n",
              "      <td>Q12138</td>\n",
              "    </tr>\n",
              "    <tr>\n",
              "      <th>1</th>\n",
              "      <td>григориански календар от нумткн октомври нумткн</td>\n",
              "      <td>558</td>\n",
              "      <td>Q12138</td>\n",
              "    </tr>\n",
              "    <tr>\n",
              "      <th>2</th>\n",
              "      <td>е важен член от реформната комисия григорианск...</td>\n",
              "      <td>558</td>\n",
              "      <td>Q12138</td>\n",
              "    </tr>\n",
              "    <tr>\n",
              "      <th>3</th>\n",
              "      <td>той поправя древноримския юлиански календар ка...</td>\n",
              "      <td>558</td>\n",
              "      <td>Q12138</td>\n",
              "    </tr>\n",
              "    <tr>\n",
              "      <th>4</th>\n",
              "      <td>в юлианския календар се приема че времето межд...</td>\n",
              "      <td>558</td>\n",
              "      <td>Q12138</td>\n",
              "    </tr>\n",
              "    <tr>\n",
              "      <th>...</th>\n",
              "      <td>...</td>\n",
              "      <td>...</td>\n",
              "      <td>...</td>\n",
              "    </tr>\n",
              "    <tr>\n",
              "      <th>4596321</th>\n",
              "      <td>е услуга за осъществяване на онлайн видеовръзк...</td>\n",
              "      <td>781159</td>\n",
              "      <td>Q56669074</td>\n",
              "    </tr>\n",
              "    <tr>\n",
              "      <th>4596322</th>\n",
              "      <td>първоначално в един видеоразговор са можели да...</td>\n",
              "      <td>781159</td>\n",
              "      <td>Q56669074</td>\n",
              "    </tr>\n",
              "    <tr>\n",
              "      <th>4596323</th>\n",
              "      <td>по време на пандемията от нумткн обаче това ог...</td>\n",
              "      <td>781159</td>\n",
              "      <td>Q56669074</td>\n",
              "    </tr>\n",
              "    <tr>\n",
              "      <th>4596324</th>\n",
              "      <td>приложението се отличава с това че е лесно за ...</td>\n",
              "      <td>781159</td>\n",
              "      <td>Q56669074</td>\n",
              "    </tr>\n",
              "    <tr>\n",
              "      <th>4596325</th>\n",
              "      <td>видеоразговори с разделителна способност до ну...</td>\n",
              "      <td>781159</td>\n",
              "      <td>Q56669074</td>\n",
              "    </tr>\n",
              "  </tbody>\n",
              "</table>\n",
              "<p>2181606 rows × 3 columns</p>\n",
              "</div>"
            ],
            "text/plain": [
              "                                                  sentence      id        qid\n",
              "0        григорианският календар понякога наричан и гре...     558     Q12138\n",
              "1          григориански календар от нумткн октомври нумткн     558     Q12138\n",
              "2        е важен член от реформната комисия григорианск...     558     Q12138\n",
              "3        той поправя древноримския юлиански календар ка...     558     Q12138\n",
              "4        в юлианския календар се приема че времето межд...     558     Q12138\n",
              "...                                                    ...     ...        ...\n",
              "4596321  е услуга за осъществяване на онлайн видеовръзк...  781159  Q56669074\n",
              "4596322  първоначално в един видеоразговор са можели да...  781159  Q56669074\n",
              "4596323  по време на пандемията от нумткн обаче това ог...  781159  Q56669074\n",
              "4596324  приложението се отличава с това че е лесно за ...  781159  Q56669074\n",
              "4596325  видеоразговори с разделителна способност до ну...  781159  Q56669074\n",
              "\n",
              "[2181606 rows x 3 columns]"
            ]
          },
          "metadata": {},
          "execution_count": 42
        }
      ]
    },
    {
      "cell_type": "code",
      "metadata": {
        "colab": {
          "base_uri": "https://localhost:8080/"
        },
        "id": "ItAhH8jpHPQU",
        "outputId": "60a10617-bbcd-4b5d-ef00-5d365d3bac84"
      },
      "source": [
        "set(application_zh.qid) == set(application_bg.qid)"
      ],
      "execution_count": 43,
      "outputs": [
        {
          "output_type": "execute_result",
          "data": {
            "text/plain": [
              "True"
            ]
          },
          "metadata": {},
          "execution_count": 43
        }
      ]
    }
  ]
}